{
 "cells": [
  {
   "cell_type": "markdown",
   "metadata": {},
   "source": [
    "## Preprocessing"
   ]
  },
  {
   "cell_type": "code",
   "execution_count": 1,
   "metadata": {},
   "outputs": [],
   "source": [
    "from preprocessing.pan21 import read_dataset\n",
    "\n",
    "path = './data/pan21/train/en'"
   ]
  },
  {
   "cell_type": "code",
   "execution_count": 2,
   "metadata": {},
   "outputs": [],
   "source": [
    "data = read_dataset(path)"
   ]
  },
  {
   "cell_type": "code",
   "execution_count": 3,
   "metadata": {},
   "outputs": [
    {
     "data": {
      "text/plain": [
       "dict_keys([0, 1])"
      ]
     },
     "execution_count": 3,
     "metadata": {},
     "output_type": "execute_result"
    }
   ],
   "source": [
    "data.keys()    # labels"
   ]
  },
  {
   "cell_type": "code",
   "execution_count": 4,
   "metadata": {},
   "outputs": [
    {
     "data": {
      "text/plain": [
       "(100, 200)"
      ]
     },
     "execution_count": 4,
     "metadata": {},
     "output_type": "execute_result"
    }
   ],
   "source": [
    "len(data[0]), len(data[0][0])    # (num_users_in_a_label, num_tweets_per_user)"
   ]
  },
  {
   "cell_type": "markdown",
   "metadata": {},
   "source": [
    "## Stats"
   ]
  },
  {
   "cell_type": "code",
   "execution_count": 5,
   "metadata": {},
   "outputs": [],
   "source": [
    "from eda.get_stats import *\n",
    "from eda.get_per_user_stats import *"
   ]
  },
  {
   "cell_type": "code",
   "execution_count": 6,
   "metadata": {},
   "outputs": [
    {
     "name": "stdout",
     "output_type": "stream",
     "text": [
      "#HASHTAG#: {0: 3757, 1: 3392}\n",
      "#URL#: {0: 8571, 1: 6768}\n",
      "#USER#: {0: 9723, 1: 11571}\n",
      "##RT##: {0: 7633, 1: 6090}\n"
     ]
    }
   ],
   "source": [
    "hashtags = count_hashtags(data)\n",
    "urls = count_urls(data)\n",
    "users = count_users(data)\n",
    "rt = count_rt(data)\n",
    "\n",
    "\n",
    "# print out\n",
    "print('#HASHTAG#:', hashtags)\n",
    "print('#URL#:', urls)\n",
    "print('#USER#:', users)\n",
    "print('##RT##:', rt)"
   ]
  },
  {
   "cell_type": "code",
   "execution_count": 7,
   "metadata": {},
   "outputs": [
    {
     "name": "stdout",
     "output_type": "stream",
     "text": [
      "number of upper-case characters: {0: 71025, 1: 75867}\n",
      "min min characters: {0: 4, 1: 5}\n",
      "avg min characters: {0: 10.28, 1: 10.55}\n",
      "max max characters: {0: 143, 1: 148}\n",
      "avg max characters: {0: 125.08, 1: 128.2}\n",
      "number of characters: {0: 1109779, 1: 1134313}\n"
     ]
    }
   ],
   "source": [
    "uppercase_chars = count_uppercase_chars(data)\n",
    "min_chars = count_min_chars(data)\n",
    "avg_min_chars = count_avg_min_chars(data)\n",
    "max_chars = count_max_chars(data)\n",
    "avg_max_chars = count_avg_max_chars(data)\n",
    "chars = count_chars(data)\n",
    "\n",
    "# print out\n",
    "print('number of upper-case characters:', uppercase_chars)\n",
    "print('min min characters:', min_chars)\n",
    "print('avg min characters:', avg_min_chars)\n",
    "print('max max characters:', max_chars)\n",
    "print('avg max characters:', avg_max_chars)\n",
    "print('number of characters:', chars)"
   ]
  },
  {
   "cell_type": "code",
   "execution_count": 8,
   "metadata": {},
   "outputs": [
    {
     "name": "stdout",
     "output_type": "stream",
     "text": [
      "number of upper-case words: {0: 43584, 1: 44012}\n",
      "min min words: {0: 1, 1: 1}\n",
      "avg min words: {0: 2.53, 1: 2.68}\n",
      "max max words: {0: 31, 1: 32}\n",
      "avg max words: {0: 24.85, 1: 25.58}\n",
      "number of words: {0: 207317, 1: 213744}\n"
     ]
    }
   ],
   "source": [
    "uppercase_words = count_uppercase_words(data)\n",
    "min_words = count_min_words(data)\n",
    "avg_min_words = count_avg_min_words(data)\n",
    "max_words = count_max_words(data)\n",
    "avg_max_words = count_avg_max_words(data)\n",
    "words = count_words(data)\n",
    "\n",
    "# print out\n",
    "print('number of upper-case words:', uppercase_words)\n",
    "print('min min words:', min_words)\n",
    "print('avg min words:', avg_min_words)\n",
    "print('max max words:', max_words)\n",
    "print('avg max words:', avg_max_words)\n",
    "print('number of words:', words)"
   ]
  },
  {
   "cell_type": "code",
   "execution_count": 9,
   "metadata": {},
   "outputs": [
    {
     "name": "stdout",
     "output_type": "stream",
     "text": [
      "min min words (alt): {0: 1, 1: 2}\n",
      "avg min words (alt): {0: 3.29, 1: 3.5}\n",
      "max max words (alt): {0: 32, 1: 32}\n",
      "avg max words (alt): {0: 25.37, 1: 26.07}\n",
      "number of words (alt): {0: 228644, 1: 234867}\n"
     ]
    }
   ],
   "source": [
    "# include #HASHTAG#, #URL#, #USER#\n",
    "# not same as count_uppercase_words() + count(#HASHTAG#, #URL#, #USER#)\n",
    "# not all #...# are followed by space. e.g., #USER#_Daily\n",
    "\n",
    "min_words_alt = count_min_words_alt(data)\n",
    "avg_min_words_alt = count_avg_min_words_alt(data)\n",
    "max_words_alt = count_max_words_alt(data)\n",
    "avg_max_words_alt = count_avg_max_words_alt(data)\n",
    "words_alt = count_words_alt(data)\n",
    "\n",
    "# print out\n",
    "print('min min words (alt):', min_words_alt)\n",
    "print('avg min words (alt):', avg_min_words_alt)\n",
    "print('max max words (alt):', max_words_alt)\n",
    "print('avg max words (alt):', avg_max_words_alt)\n",
    "print('number of words (alt):', words_alt)"
   ]
  },
  {
   "cell_type": "code",
   "execution_count": 10,
   "metadata": {},
   "outputs": [
    {
     "name": "stdout",
     "output_type": "stream",
     "text": [
      "number of stop-words: {0: 95998, 1: 101886}\n"
     ]
    }
   ],
   "source": [
    "stop_words = count_stopwords(data)\n",
    "\n",
    "# print out\n",
    "print('number of stop-words:', stop_words)\n",
    "\n",
    "## just split: number of stop-words: {0: 95998, 1: 101886}"
   ]
  },
  {
   "cell_type": "code",
   "execution_count": 11,
   "metadata": {},
   "outputs": [
    {
     "name": "stdout",
     "output_type": "stream",
     "text": [
      "number of emojis: {0: 8792, 1: 7446}\n"
     ]
    }
   ],
   "source": [
    "emojis = count_emojis(data)\n",
    "\n",
    "# print out\n",
    "print('number of emojis:', emojis)"
   ]
  },
  {
   "cell_type": "code",
   "execution_count": 12,
   "metadata": {},
   "outputs": [
    {
     "name": "stdout",
     "output_type": "stream",
     "text": [
      "sentiment: {'positive': {0: 6385, 1: 6163}, 'negative': {0: 3679, 1: 4482}, 'neutral': {0: 9936, 1: 9355}}\n"
     ]
    }
   ],
   "source": [
    "sentiments = get_sentiments(data)\n",
    "\n",
    "# print out\n",
    "print('sentiment:', sentiments)"
   ]
  },
  {
   "cell_type": "code",
   "execution_count": 13,
   "metadata": {},
   "outputs": [
    {
     "name": "stderr",
     "output_type": "stream",
     "text": [
      "100%|█████████████████████████████████████████| 100/100 [03:36<00:00,  2.17s/it]\n",
      "100%|█████████████████████████████████████████| 100/100 [03:15<00:00,  1.95s/it]\n"
     ]
    },
    {
     "name": "stdout",
     "output_type": "stream",
     "text": [
      "{'MONEY', 'CARDINAL', 'WORK_OF_ART', 'LAW', 'FAC', 'PRODUCT', 'NORP', 'TIME', 'LANGUAGE', 'DATE', 'QUANTITY', 'ORDINAL', 'PERCENT', 'EVENT'}\n"
     ]
    },
    {
     "name": "stderr",
     "output_type": "stream",
     "text": [
      "100%|█████████████████████████████████████████| 100/100 [01:18<00:00,  1.27it/s]\n",
      "100%|█████████████████████████████████████████| 100/100 [01:44<00:00,  1.04s/it]\n"
     ]
    },
    {
     "name": "stdout",
     "output_type": "stream",
     "text": [
      "set()\n",
      "ner1 {'PERSON': {0: 3809, 1: 3695}, 'PER': {0: 0, 1: 0}, 'ORG': {0: 4586, 1: 4226}, 'GPE': {0: 1966, 1: 1839}, 'LOC': {0: 106, 1: 98}, 'MISC': {0: 30469, 1: 27709}}\n",
      "\n",
      "ner2 {'PERSON': {0: 0, 1: 0}, 'PER': {0: 4672, 1: 4743}, 'ORG': {0: 2611, 1: 2387}, 'GPE': {0: 0, 1: 0}, 'LOC': {0: 2437, 1: 2132}, 'MISC': {0: 6458, 1: 6534}}\n"
     ]
    }
   ],
   "source": [
    "ner1 = get_named_entities(data, corpora='en_core_web_sm')\n",
    "ner2 = get_named_entities(data, corpora='xx_ent_wiki_sm')\n",
    "\n",
    "# print out\n",
    "print('ner1', ner1)\n",
    "print()\n",
    "print('ner2', ner2)"
   ]
  },
  {
   "cell_type": "code",
   "execution_count": null,
   "metadata": {},
   "outputs": [],
   "source": []
  },
  {
   "cell_type": "markdown",
   "metadata": {},
   "source": [
    "## Per user stats"
   ]
  },
  {
   "cell_type": "code",
   "execution_count": 14,
   "metadata": {},
   "outputs": [],
   "source": [
    "per_user_hashtags = count_per_user_hashtags(data)\n",
    "per_user_urls = count_per_user_urls(data)\n",
    "per_user_users = count_per_user_users(data)\n",
    "per_user_rt = count_per_user_rt(data)\n",
    "\n",
    "assert {label: sum(v) for label, v in per_user_hashtags.items()} == hashtags\n",
    "assert {label: sum(v) for label, v in per_user_urls.items()} == urls\n",
    "assert {label: sum(v) for label, v in per_user_users.items()} == users\n",
    "assert {label: sum(v) for label, v in per_user_rt.items()} == rt"
   ]
  },
  {
   "cell_type": "code",
   "execution_count": 15,
   "metadata": {},
   "outputs": [],
   "source": [
    "per_user_uppercase_chars = count_per_user_uppercase_chars(data)\n",
    "per_user_min_chars = count_per_user_min_chars(data)\n",
    "per_user_max_chars = count_per_user_max_chars(data)\n",
    "per_user_chars = count_per_user_chars(data)\n",
    "\n",
    "assert {label: sum(v) for label, v in per_user_uppercase_chars.items()} == uppercase_chars\n",
    "assert {label: min(v) for label, v in per_user_min_chars.items()} == min_chars\n",
    "assert {label: sum(v)/len(v) for label, v in per_user_min_chars.items()} == avg_min_chars\n",
    "assert {label: max(v) for label, v in per_user_max_chars.items()} == max_chars\n",
    "assert {label: sum(v)/len(v) for label, v in per_user_max_chars.items()} == avg_max_chars\n",
    "assert {label: sum(v) for label, v in per_user_chars.items()} == chars"
   ]
  },
  {
   "cell_type": "code",
   "execution_count": 16,
   "metadata": {},
   "outputs": [],
   "source": [
    "per_user_uppercase_words = count_per_user_uppercase_words(data)\n",
    "per_user_min_words = count_per_user_min_words(data)\n",
    "per_user_max_words = count_per_user_max_words(data)\n",
    "per_user_words = count_per_user_words(data)\n",
    "\n",
    "assert {label: sum(v) for label, v in per_user_uppercase_words.items()} == uppercase_words\n",
    "assert {label: min(v) for label, v in per_user_min_words.items()} == min_words\n",
    "assert {label: sum(v)/len(v) for label, v in per_user_min_words.items()} == avg_min_words\n",
    "assert {label: max(v) for label, v in per_user_max_words.items()} == max_words\n",
    "assert {label: sum(v)/len(v) for label, v in per_user_max_words.items()} == avg_max_words\n",
    "assert {label: sum(v) for label, v in per_user_words.items()} == words"
   ]
  },
  {
   "cell_type": "code",
   "execution_count": 17,
   "metadata": {},
   "outputs": [],
   "source": [
    "per_user_min_words_alt = count_per_user_min_words_alt(data)\n",
    "per_user_max_words_alt = count_per_user_max_words_alt(data)\n",
    "per_user_words_alt = count_per_user_words_alt(data)\n",
    "\n",
    "assert {label: min(v) for label, v in per_user_min_words_alt.items()} == min_words_alt\n",
    "assert {label: sum(v)/len(v) for label, v in per_user_min_words_alt.items()} == avg_min_words_alt\n",
    "assert {label: max(v) for label, v in per_user_max_words_alt.items()} == max_words_alt\n",
    "assert {label: sum(v)/len(v) for label, v in per_user_max_words_alt.items()} == avg_max_words_alt\n",
    "assert {label: sum(v) for label, v in per_user_words_alt.items()} == words_alt"
   ]
  },
  {
   "cell_type": "code",
   "execution_count": 18,
   "metadata": {},
   "outputs": [],
   "source": [
    "per_user_stopwords = count_per_user_stopwords(data)\n",
    "\n",
    "assert {label: sum(v) for label, v in per_user_stopwords.items()} == stop_words"
   ]
  },
  {
   "cell_type": "code",
   "execution_count": 19,
   "metadata": {},
   "outputs": [],
   "source": [
    "per_user_emojis = count_per_user_emojis(data)\n",
    "\n",
    "assert {label: sum(v) for label, v in per_user_emojis.items()} == emojis"
   ]
  },
  {
   "cell_type": "code",
   "execution_count": 20,
   "metadata": {},
   "outputs": [],
   "source": [
    "per_user_sentiments = get_per_user_sentiments(data)\n",
    "\n",
    "for sentiment_type, sentiment_value in per_user_sentiments.items():\n",
    "    assert {label: sum(v) for label, v in sentiment_value.items()} == sentiments[sentiment_type]"
   ]
  },
  {
   "cell_type": "code",
   "execution_count": 21,
   "metadata": {},
   "outputs": [
    {
     "name": "stderr",
     "output_type": "stream",
     "text": [
      "100%|█████████████████████████████████████████| 100/100 [03:39<00:00,  2.19s/it]\n",
      "100%|█████████████████████████████████████████| 100/100 [03:01<00:00,  1.81s/it]\n"
     ]
    },
    {
     "name": "stdout",
     "output_type": "stream",
     "text": [
      "{'MONEY', 'CARDINAL', 'WORK_OF_ART', 'LAW', 'FAC', 'PRODUCT', 'NORP', 'TIME', 'LANGUAGE', 'DATE', 'QUANTITY', 'ORDINAL', 'PERCENT', 'EVENT'}\n"
     ]
    },
    {
     "name": "stderr",
     "output_type": "stream",
     "text": [
      "100%|█████████████████████████████████████████| 100/100 [01:15<00:00,  1.33it/s]\n",
      "100%|█████████████████████████████████████████| 100/100 [01:08<00:00,  1.46it/s]"
     ]
    },
    {
     "name": "stdout",
     "output_type": "stream",
     "text": [
      "set()\n"
     ]
    },
    {
     "name": "stderr",
     "output_type": "stream",
     "text": [
      "\n"
     ]
    }
   ],
   "source": [
    "per_user_ner1 = get_per_user_named_entities(data, corpora='en_core_web_sm')\n",
    "per_user_ner2 = get_per_user_named_entities(data, corpora='xx_ent_wiki_sm')\n",
    "\n",
    "for ner_type, ner_value in per_user_ner1.items():\n",
    "    assert {label: sum(v) for label, v in ner_value.items()} == ner1[ner_type]\n",
    "\n"
   ]
  },
  {
   "cell_type": "markdown",
   "metadata": {},
   "source": [
    "### Table"
   ]
  },
  {
   "cell_type": "code",
   "execution_count": 22,
   "metadata": {},
   "outputs": [],
   "source": [
    "import pandas as pd"
   ]
  },
  {
   "cell_type": "code",
   "execution_count": 23,
   "metadata": {},
   "outputs": [],
   "source": [
    "# create df of features for each label\n",
    "df_hashtags = pd.DataFrame(per_user_hashtags)\n",
    "df_urls = pd.DataFrame(per_user_urls)\n",
    "df_users = pd.DataFrame(per_user_users)\n",
    "df_rt = pd.DataFrame(per_user_rt)\n",
    "df_uppercase_chars = pd.DataFrame(per_user_uppercase_chars)\n",
    "df_min_chars = pd.DataFrame(per_user_min_chars)\n",
    "df_max_chars = pd.DataFrame(per_user_max_chars)\n",
    "df_chars = pd.DataFrame(per_user_chars)\n",
    "df_uppercase_words = pd.DataFrame(per_user_uppercase_words)\n",
    "df_min_words = pd.DataFrame(per_user_min_words)\n",
    "df_max_words = pd.DataFrame(per_user_max_words)\n",
    "df_words = pd.DataFrame(per_user_words)\n",
    "df_min_words_alt = pd.DataFrame(per_user_min_words_alt)\n",
    "df_max_words_alt = pd.DataFrame(per_user_max_words_alt)\n",
    "df_words_alt = pd.DataFrame(per_user_words_alt)\n",
    "df_stop_words = pd.DataFrame(per_user_stopwords)\n",
    "df_emojis = pd.DataFrame(per_user_emojis)\n",
    "df_sentiments_positive = pd.DataFrame(per_user_sentiments['positive'])\n",
    "df_sentiments_negative = pd.DataFrame(per_user_sentiments['negative'])\n",
    "df_sentiments_neutral = pd.DataFrame(per_user_sentiments['neutral'])\n",
    "df_ner1_PERSON = pd.DataFrame(per_user_ner1['PERSON'])\n",
    "df_ner1_ORG = pd.DataFrame(per_user_ner1['ORG'])\n",
    "df_ner1_LOC = pd.DataFrame(per_user_ner1['LOC']) + pd.DataFrame(per_user_ner1['GPE'])\n",
    "df_ner1_MISC = pd.DataFrame(per_user_ner1['MISC'])\n",
    "df_ner2_PER = pd.DataFrame(per_user_ner2['PER'])\n",
    "df_ner2_ORG = pd.DataFrame(per_user_ner2['ORG'])\n",
    "df_ner2_LOC = pd.DataFrame(per_user_ner2['LOC'])\n",
    "df_ner2_MISC = pd.DataFrame(per_user_ner2['MISC'])\n"
   ]
  },
  {
   "cell_type": "code",
   "execution_count": 24,
   "metadata": {},
   "outputs": [
    {
     "data": {
      "text/plain": [
       "<AxesSubplot:>"
      ]
     },
     "execution_count": 24,
     "metadata": {},
     "output_type": "execute_result"
    },
    {
     "data": {
      "image/png": "[encoded data removed]",
      "text/plain": [
       "<Figure size 432x288 with 1 Axes>"
      ]
     },
     "metadata": {
      "needs_background": "light"
     },
     "output_type": "display_data"
    }
   ],
   "source": [
    "# plot frequency of features in each label in same plot\n",
    "import matplotlib.pyplot as plt\n",
    "\n",
    "(df_hashtags[1].value_counts().sort_index() - df_hashtags[0].value_counts().sort_index()).plot(kind='bar')"
   ]
  },
  {
   "cell_type": "code",
   "execution_count": null,
   "metadata": {},
   "outputs": [],
   "source": []
  },
  {
   "cell_type": "code",
   "execution_count": 25,
   "metadata": {},
   "outputs": [],
   "source": [
    "# save to csv without index\n",
    "df_hashtags.to_csv('eda/per_user_stats/hashtags.csv', index=False)\n",
    "df_urls.to_csv('eda/per_user_stats/urls.csv', index=False)\n",
    "df_users.to_csv('eda/per_user_stats/users.csv', index=False)\n",
    "df_rt.to_csv('eda/per_user_stats/rt.csv', index=False)\n",
    "df_uppercase_chars.to_csv('eda/per_user_stats/uppercase_chars.csv', index=False)\n",
    "df_min_chars.to_csv('eda/per_user_stats/min_chars.csv', index=False)\n",
    "df_max_chars.to_csv('eda/per_user_stats/max_chars.csv', index=False)\n",
    "df_chars.to_csv('eda/per_user_stats/chars.csv', index=False)\n",
    "df_uppercase_words.to_csv('eda/per_user_stats/uppercase_words.csv', index=False)\n",
    "df_min_words.to_csv('eda/per_user_stats/min_words.csv', index=False)\n",
    "df_max_words.to_csv('eda/per_user_stats/max_words.csv', index=False)\n",
    "df_words.to_csv('eda/per_user_stats/words.csv', index=False)\n",
    "df_min_words_alt.to_csv('eda/per_user_stats/min_words_alt.csv', index=False)\n",
    "df_max_words_alt.to_csv('eda/per_user_stats/max_words_alt.csv', index=False)\n",
    "df_words_alt.to_csv('eda/per_user_stats/words_alt.csv', index=False)\n",
    "df_stop_words.to_csv('eda/per_user_stats/stop_words.csv', index=False)\n",
    "df_emojis.to_csv('eda/per_user_stats/emojis.csv', index=False)\n",
    "df_sentiments_positive.to_csv('eda/per_user_stats/sentiments_positive.csv', index=False)\n",
    "df_sentiments_negative.to_csv('eda/per_user_stats/sentiments_negative.csv', index=False)\n",
    "df_sentiments_neutral.to_csv('eda/per_user_stats/sentiments_neutral.csv', index=False)\n",
    "df_ner1_PERSON.to_csv('eda/per_user_stats/ner1_PERSON.csv', index=False)\n",
    "df_ner1_ORG.to_csv('eda/per_user_stats/ner1_ORG.csv', index=False)\n",
    "df_ner1_LOC.to_csv('eda/per_user_stats/ner1_LOCATION.csv', index=False)\n",
    "df_ner1_MISC.to_csv('eda/per_user_stats/ner1_MISC.csv', index=False)\n",
    "df_ner2_PER.to_csv('eda/per_user_stats/ner2_PER.csv', index=False)\n",
    "df_ner2_ORG.to_csv('eda/per_user_stats/ner2_ORG.csv', index=False)\n",
    "df_ner2_LOC.to_csv('eda/per_user_stats/ner2_LOC.csv', index=False)\n",
    "df_ner2_MISC.to_csv('eda/per_user_stats/ner2_MISC.csv', index=False)"
   ]
  },
  {
   "cell_type": "code",
   "execution_count": 26,
   "metadata": {},
   "outputs": [],
   "source": [
    "# save describe to csv with index\n",
    "df_hashtags.describe().to_csv('eda/per_user_stats/describe/hashtags.csv', index=True)\n",
    "df_urls.describe().to_csv('eda/per_user_stats/describe/urls.csv', index=True)\n",
    "df_users.describe().to_csv('eda/per_user_stats/describe/users.csv', index=True)\n",
    "df_rt.describe().to_csv('eda/per_user_stats/describe/rt.csv', index=True)\n",
    "df_uppercase_chars.describe().to_csv('eda/per_user_stats/describe/uppercase_chars.csv', index=True)\n",
    "df_min_chars.describe().to_csv('eda/per_user_stats/describe/min_chars.csv', index=True)\n",
    "df_max_chars.describe().to_csv('eda/per_user_stats/describe/max_chars.csv', index=True)\n",
    "df_chars.describe().to_csv('eda/per_user_stats/describe/chars.csv', index=True)\n",
    "df_uppercase_words.describe().to_csv('eda/per_user_stats/describe/uppercase_words.csv', index=True)\n",
    "df_min_words.describe().to_csv('eda/per_user_stats/describe/min_words.csv', index=True)\n",
    "df_max_words.describe().to_csv('eda/per_user_stats/describe/max_words.csv', index=True)\n",
    "df_words.describe().to_csv('eda/per_user_stats/describe/words.csv', index=True)\n",
    "df_min_words_alt.describe().to_csv('eda/per_user_stats/describe/min_words_alt.csv', index=True)\n",
    "df_max_words_alt.describe().to_csv('eda/per_user_stats/describe/max_words_alt.csv', index=True)\n",
    "df_words_alt.describe().to_csv('eda/per_user_stats/describe/words_alt.csv', index=True)\n",
    "df_stop_words.describe().to_csv('eda/per_user_stats/describe/stop_words.csv', index=True)\n",
    "df_emojis.describe().to_csv('eda/per_user_stats/describe/emojis.csv', index=True)\n",
    "df_sentiments_positive.describe().to_csv('eda/per_user_stats/describe/sentiments_positive.csv', index=True)\n",
    "df_sentiments_negative.describe().to_csv('eda/per_user_stats/describe/sentiments_negative.csv', index=True)\n",
    "df_sentiments_neutral.describe().to_csv('eda/per_user_stats/describe/sentiments_neutral.csv', index=True)\n",
    "df_ner1_PERSON.describe().to_csv('eda/per_user_stats/describe/ner1_PERSON.csv', index=True)\n",
    "df_ner1_ORG.describe().to_csv('eda/per_user_stats/describe/ner1_ORG.csv', index=True)\n",
    "df_ner1_LOC.describe().to_csv('eda/per_user_stats/describe/ner1_LOCATION.csv', index=True)\n",
    "df_ner1_MISC.describe().to_csv('eda/per_user_stats/describe/ner1_MISC.csv', index=True)\n",
    "df_ner2_PER.describe().to_csv('eda/per_user_stats/describe/ner2_PER.csv', index=True)\n",
    "df_ner2_ORG.describe().to_csv('eda/per_user_stats/describe/ner2_ORG.csv', index=True)\n",
    "df_ner2_LOC.describe().to_csv('eda/per_user_stats/describe/ner2_LOC.csv', index=True)\n",
    "df_ner2_MISC.describe().to_csv('eda/per_user_stats/describe/ner2_MISC.csv', index=True)"
   ]
  },
  {
   "cell_type": "code",
   "execution_count": null,
   "metadata": {},
   "outputs": [],
   "source": []
  },
  {
   "cell_type": "code",
   "execution_count": 27,
   "metadata": {},
   "outputs": [],
   "source": [
    "# create df for each label\n",
    "for label in data.keys():\n",
    "    pd.DataFrame(data={\n",
    "        \"hashtags\": df_hashtags[label],\n",
    "        \"urls\": df_urls[label],\n",
    "        \"users\": df_users[label],\n",
    "        \"rt\": df_rt[label],\n",
    "        \"uppercase_chars\": df_uppercase_chars[label],\n",
    "        \"min_chars\": df_min_chars[label],\n",
    "        \"max_chars\": df_max_chars[label],\n",
    "        \"chars\": df_chars[label],\n",
    "        \"uppercase_words\": df_uppercase_words[label],\n",
    "        \"min_words\": df_min_words[label],\n",
    "        \"max_words\": df_max_words[label],\n",
    "        \"words\": df_words[label],\n",
    "        \"min_words_alt\": df_min_words_alt[label],\n",
    "        \"max_words_alt\": df_max_words_alt[label],\n",
    "        \"words_alt\": df_words_alt[label],\n",
    "        \"stop_words\": df_stop_words[label],\n",
    "        \"emojis\": df_emojis[label],\n",
    "        \"sentiments_positive\": df_sentiments_positive[label],\n",
    "        \"sentiments_negative\": df_sentiments_negative[label],\n",
    "        \"sentiments_neutral\": df_sentiments_neutral[label],\n",
    "        \"ner1_PERSON\": df_ner1_PERSON[label],\n",
    "        \"ner1_ORG\": df_ner1_ORG[label],\n",
    "        \"ner1_LOC\": df_ner1_LOC[label],\n",
    "        \"ner1_MISC\": df_ner1_MISC[label],\n",
    "        \"ner2_PER\": df_ner2_PER[label],\n",
    "        \"ner2_ORG\": df_ner2_ORG[label],\n",
    "        \"ner2_LOC\": df_ner2_LOC[label],\n",
    "        \"ner2_MISC\": df_ner2_MISC[label]\n",
    "    }).to_csv(f'eda/per_user_stats/combined/label_{label}.csv', index=True)"
   ]
  },
  {
   "cell_type": "code",
   "execution_count": null,
   "metadata": {},
   "outputs": [],
   "source": []
  },
  {
   "cell_type": "code",
   "execution_count": 28,
   "metadata": {},
   "outputs": [],
   "source": [
    "## NOT ALL #...# is followed by space\n",
    "'''e.g.\n",
    "\t\t<document><![CDATA[There was a 5sos meet up in Belgium! #HASHTAG# #HASHTAG# #USER# 💗 💗 #URL# (#USER#_Daily ) -E]]></document>\n",
    "'''\n",
    "\n",
    "def count_max_words_alt_(data):\n",
    "    # given data: {label: [[tweets]]\n",
    "    # remove ##RT##\n",
    "    # get total number of words for each label\n",
    "    # output out: {label: count}\n",
    "    out = {}\n",
    "    for label, users in data.items():\n",
    "        out[label] = 0\n",
    "        for user in users:\n",
    "            if sum([len(re.findall(r'#(URL|HASHTAG|USER)#\\w', tweet)) for tweet in user]) > 0:\n",
    "                print(user[0],label)\n",
    "                print([re.findall(r'#(URL|HASHTAG|USER)#\\w', tweet) for tweet in user])\n",
    "                break\n",
    "            out[label] += sum([len(re.findall(r'#(URL|HASHTAG|USER)#', tweet)) for tweet in user])\n",
    "    return out\n",
    "\n",
    "# count_max_words_alt_(data)"
   ]
  },
  {
   "cell_type": "code",
   "execution_count": null,
   "metadata": {},
   "outputs": [],
   "source": []
  },
  {
   "cell_type": "code",
   "execution_count": null,
   "metadata": {},
   "outputs": [],
   "source": []
  }
 ],
 "metadata": {
  "interpreter": {
   "hash": "aee8b7b246df8f9039afb4144a1f6fd8d2ca17a180786b69acc140d282b71a49"
  },
  "kernelspec": {
   "display_name": "env_btp",
   "language": "python",
   "name": "env_btp"
  },
  "language_info": {
   "codemirror_mode": {
    "name": "ipython",
    "version": 3
   },
   "file_extension": ".py",
   "mimetype": "text/x-python",
   "name": "python",
   "nbconvert_exporter": "python",
   "pygments_lexer": "ipython3",
   "version": "3.7.2"
  }
 },
 "nbformat": 4,
 "nbformat_minor": 2
}
